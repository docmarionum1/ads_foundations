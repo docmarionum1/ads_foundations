{
 "cells": [
  {
   "cell_type": "code",
   "execution_count": 1,
   "metadata": {
    "collapsed": false
   },
   "outputs": [
    {
     "name": "stdout",
     "output_type": "stream",
     "text": [
      "Populating the interactive namespace from numpy and matplotlib\n"
     ]
    }
   ],
   "source": [
    "%pylab inline"
   ]
  },
  {
   "cell_type": "code",
   "execution_count": 2,
   "metadata": {
    "collapsed": true
   },
   "outputs": [],
   "source": [
    "import pandas as pd\n",
    "import re\n",
    "import datetime\n",
    "import pylab as pl\n",
    "pl.style.use('fivethirtyeight')\n",
    "import statsmodels.formula.api as smf\n",
    "from statsmodels.graphics.api import abline_plot\n",
    "import statsmodels.api as sma"
   ]
  },
  {
   "cell_type": "code",
   "execution_count": 3,
   "metadata": {
    "collapsed": true
   },
   "outputs": [],
   "source": [
    "def convertDate(d):\n",
    "    date = datetime.datetime.strptime(d, '%m/%d/%Y %I:%M:%S %p')\n",
    "    return datetime.date(date.year, date.month, date.day)"
   ]
  },
  {
   "cell_type": "code",
   "execution_count": 4,
   "metadata": {
    "collapsed": false
   },
   "outputs": [],
   "source": [
    "complaints = pd.read_csv('311_Service_Requests_from_2010_to_Present.csv', converters={'Created Date': convertDate})"
   ]
  },
  {
   "cell_type": "code",
   "execution_count": 5,
   "metadata": {
    "collapsed": false
   },
   "outputs": [],
   "source": [
    "complaints = complaints.rename(columns = {'Created Date': 'Date'})\n",
    "complaints['dow'] = complaints.apply(lambda x: x['Date'].weekday(), axis=1)\n",
    "complaints['month'] = complaints.apply(lambda x: x['Date'].month, axis=1)"
   ]
  },
  {
   "cell_type": "code",
   "execution_count": 6,
   "metadata": {
    "collapsed": true
   },
   "outputs": [],
   "source": [
    "def convertStreak(streak):\n",
    "    # N is post season?\n",
    "    #if streak == \"N\":\n",
    "    #    return float('Nan')\n",
    "    if not streak:\n",
    "        return float('Nan')\n",
    "    sign = -1 if streak[0] == \"-\" else 1\n",
    "    return len(streak) * sign\n",
    "\n",
    "def getDateConverter(year):\n",
    "    def convertDate(date):\n",
    "        # Handle duplicate headers\n",
    "        if date == 'Date':\n",
    "            return None\n",
    "        \n",
    "        # Remove double-header indication (1), (2) and convert to date\n",
    "        d = datetime.datetime.strptime(re.sub(r'\\s\\(.*\\)', '', date) + ' ' + str(year), '%A %b %d %Y')\n",
    "        #d.year = year\n",
    "        return datetime.date(d.year, d.month, d.day)\n",
    "    \n",
    "    return convertDate\n",
    "\n",
    "def convertWL(wl):\n",
    "    # Covert the W/L column to numeric\n",
    "    if wl and wl[0] == 'W':\n",
    "        return 1\n",
    "    return 0\n",
    "\n",
    "def readGameLog(csv, convertDate):\n",
    "    df = pd.read_csv(csv, skip_blank_lines=True, converters={'Streak': convertStreak, 'Date': convertDate, 'W/L': convertWL})\n",
    "    \n",
    "    # Remove the headers in the middle of the file and postseason\n",
    "    df = df.drop(df.index[\n",
    "        (df.Rk == \"Rk\") # Drop header rows\n",
    "    ])\n",
    "    \n",
    "    #print [d.days for d in np.diff(df.Date)]\n",
    "    \n",
    "    # First game in double headers\n",
    "    df = df.drop(df.index[(np.append([d.days for d in np.diff(df.Date)], [1]) == 0)])\n",
    "    \n",
    "    return df"
   ]
  },
  {
   "cell_type": "code",
   "execution_count": 63,
   "metadata": {
    "collapsed": false
   },
   "outputs": [],
   "source": [
    "y = []\n",
    "m = []\n",
    "years = range(2010,2016)\n",
    "for year in years:\n",
    "    y.append(readGameLog(\"teams_NYY_%s-schedule-scores_team_schedule.csv\" % str(year), getDateConverter(year)))\n",
    "    m.append(readGameLog(\"teams_NYM_%s-schedule-scores_team_schedule.csv\" % str(year), getDateConverter(year)))\n",
    "    \n",
    "yankees = pd.concat(y, ignore_index=True)\n",
    "yankees['y_postseason'] = np.isnan(yankees.Rk.astype('float'))\n",
    "yankees = yankees.rename(columns = {'Streak': 'y_streak'})\n",
    "mets = pd.concat(m, ignore_index=True)\n",
    "mets['m_postseason'] = np.isnan(mets.Rk.astype('float'))\n",
    "mets = mets.rename(columns = {'Streak': 'm_streak'})"
   ]
  },
  {
   "cell_type": "code",
   "execution_count": 64,
   "metadata": {
    "collapsed": false
   },
   "outputs": [],
   "source": [
    "baseball = pd.merge(yankees, mets, on='Date', how='outer', sort=True)\n",
    "#baseball = pd.merge(yankees, mets, on='Date', how='inner', sort=True)"
   ]
  },
  {
   "cell_type": "code",
   "execution_count": 65,
   "metadata": {
    "collapsed": false
   },
   "outputs": [],
   "source": [
    "baseball['m_postseason'] = baseball['m_postseason'].astype(float)\n",
    "baseball['y_postseason'] = baseball['y_postseason'].astype(float)"
   ]
  },
  {
   "cell_type": "code",
   "execution_count": 67,
   "metadata": {
    "collapsed": false
   },
   "outputs": [
    {
     "data": {
      "text/plain": [
       "0       0\n",
       "1     NaN\n",
       "2       0\n",
       "3       0\n",
       "4     NaN\n",
       "5       0\n",
       "6       0\n",
       "7       0\n",
       "8       0\n",
       "9       0\n",
       "10      0\n",
       "11      0\n",
       "12      0\n",
       "13      0\n",
       "14    NaN\n",
       "15      0\n",
       "16      0\n",
       "17      0\n",
       "18      0\n",
       "19      0\n",
       "20      0\n",
       "21      0\n",
       "22      0\n",
       "23      0\n",
       "24      0\n",
       "25      0\n",
       "26      0\n",
       "27      0\n",
       "28      0\n",
       "29      0\n",
       "       ..\n",
       "170     0\n",
       "171     0\n",
       "172     1\n",
       "173     1\n",
       "174     1\n",
       "175     1\n",
       "176     1\n",
       "177     1\n",
       "178     1\n",
       "179     1\n",
       "180     1\n",
       "181     0\n",
       "182   NaN\n",
       "183     0\n",
       "184     0\n",
       "185     0\n",
       "186     0\n",
       "187   NaN\n",
       "188     0\n",
       "189     0\n",
       "190     0\n",
       "191     0\n",
       "192   NaN\n",
       "193     0\n",
       "194     0\n",
       "195     0\n",
       "196     0\n",
       "197     0\n",
       "198     0\n",
       "199     0\n",
       "Name: y_postseason, dtype: float64"
      ]
     },
     "execution_count": 67,
     "metadata": {},
     "output_type": "execute_result"
    }
   ],
   "source": [
    "baseball['y_postseason'].head(200)"
   ]
  },
  {
   "cell_type": "code",
   "execution_count": 68,
   "metadata": {
    "collapsed": false
   },
   "outputs": [],
   "source": [
    "merged = pd.merge(baseball, complaints, on='Date')"
   ]
  },
  {
   "cell_type": "code",
   "execution_count": 136,
   "metadata": {
    "collapsed": true
   },
   "outputs": [],
   "source": [
    "def interp(a):\n",
    "    if np.isnan(a[0]):\n",
    "        a[0] = 0.\n",
    "        \n",
    "    for i in range(len(a)):\n",
    "        if np.isnan(a[i]):\n",
    "            a[i] = a[i-1]\n",
    "\n",
    "def doStuff(df):\n",
    "    grouped = df.groupby('Date')\n",
    "    \n",
    "    # Get numbers for each day\n",
    "    ystreak = []\n",
    "    ypost = []\n",
    "    mstreak = []\n",
    "    mpost = []\n",
    "    counts = []\n",
    "    dow = []\n",
    "    month = []\n",
    "    for d in sorted(grouped.groups.keys()):\n",
    "        group = grouped.get_group(d)\n",
    "        mean = group.mean()\n",
    "        \n",
    "        ystreak.append(mean['y_streak'])\n",
    "        ypost.append(group['y_postseason'].iloc[0])\n",
    "        \n",
    "        mstreak.append(mean['m_streak'])\n",
    "        mpost.append(group['m_postseason'].iloc[0])\n",
    "        \n",
    "        dow.append(mean['dow'])\n",
    "        counts.append(grouped.get_group(d).count()['Date'])\n",
    "        month.append(mean['month'])\n",
    "        \n",
    "    # Detrend number of complaints\n",
    "    cycle, trend = sma.tsa.filters.hpfilter(counts, lamb = 104976000000)\n",
    "    \n",
    "    # Create a single postseason variable\n",
    "    # 0 is not postseason, 1 is yankees in post, 2 is mets in post\n",
    "    # and 3 is both in post.\n",
    "    q = np.array(mpost)*2\n",
    "    r = np.array(ypost)\n",
    "    q[np.isnan(q)] = 0\n",
    "    r[np.isnan(r)] = 0\n",
    "    post = q+r\n",
    "    \n",
    "    interp(ystreak)\n",
    "    interp(mstreak)\n",
    "    \n",
    "    # Run Regression vs. Everything\n",
    "    mod = smf.ols(formula='c ~ C(d) + C(m) + ys + ms + C(p)', data = {\n",
    "        'c': cycle, \n",
    "        'ys': ystreak, 'yp': ypost,\n",
    "        'ms': mstreak, 'mp': mpost,\n",
    "        'd': dow, 'm': month,\n",
    "        'p': post\n",
    "    }).fit()\n",
    "    print mod.summary()"
   ]
  },
  {
   "cell_type": "code",
   "execution_count": 137,
   "metadata": {
    "collapsed": false
   },
   "outputs": [
    {
     "name": "stdout",
     "output_type": "stream",
     "text": [
      "                            OLS Regression Results                            \n",
      "==============================================================================\n",
      "Dep. Variable:                      c   R-squared:                       0.754\n",
      "Model:                            OLS   Adj. R-squared:                  0.750\n",
      "Method:                 Least Squares   F-statistic:                     179.1\n",
      "Date:                Mon, 09 Nov 2015   Prob (F-statistic):          1.13e-304\n",
      "Time:                        00:23:37   Log-Likelihood:                -8446.3\n",
      "No. Observations:                1070   AIC:                         1.693e+04\n",
      "Df Residuals:                    1051   BIC:                         1.703e+04\n",
      "Df Model:                          18                                         \n",
      "Covariance Type:            nonrobust                                         \n",
      "================================================================================\n",
      "                   coef    std err          t      P>|t|      [95.0% Conf. Int.]\n",
      "--------------------------------------------------------------------------------\n",
      "Intercept      788.6730    464.752      1.697      0.090      -123.275  1700.621\n",
      "C(d)[T.1.0]    288.8466     77.126      3.745      0.000       137.509   440.185\n",
      "C(d)[T.2.0]    185.3465     77.001      2.407      0.016        34.254   336.439\n",
      "C(d)[T.3.0]      5.7936     78.164      0.074      0.941      -147.582   159.169\n",
      "C(d)[T.4.0]   -387.6730     76.344     -5.078      0.000      -537.476  -237.870\n",
      "C(d)[T.5.0]  -2207.5698     76.251    -28.951      0.000     -2357.191 -2057.949\n",
      "C(d)[T.6.0]  -2578.2436     76.325    -33.780      0.000     -2728.010 -2428.477\n",
      "C(m)[T.4.0]   -123.6916    467.218     -0.265      0.791     -1040.478   793.095\n",
      "C(m)[T.5.0]   -160.9749    466.949     -0.345      0.730     -1077.233   755.283\n",
      "C(m)[T.6.0]    100.5524    466.917      0.215      0.830      -815.643  1016.748\n",
      "C(m)[T.7.0]     18.4231    467.008      0.039      0.969      -897.950   934.796\n",
      "C(m)[T.8.0]   -181.1449    466.697     -0.388      0.698     -1096.909   734.619\n",
      "C(m)[T.9.0]   -225.1042    467.004     -0.482      0.630     -1141.470   691.262\n",
      "C(m)[T.10.0]   440.2747    508.630      0.866      0.387      -557.770  1438.320\n",
      "C(m)[T.11.0]   241.7449    851.079      0.284      0.776     -1428.263  1911.752\n",
      "C(p)[T.1.0]   -178.8692    240.039     -0.745      0.456      -649.880   292.142\n",
      "C(p)[T.2.0]     71.5393    276.555      0.259      0.796      -471.124   614.203\n",
      "ys              -5.3705      8.850     -0.607      0.544       -22.737    11.996\n",
      "ms              17.0954      8.244      2.074      0.038         0.920    33.271\n",
      "==============================================================================\n",
      "Omnibus:                      132.272   Durbin-Watson:                   1.015\n",
      "Prob(Omnibus):                  0.000   Jarque-Bera (JB):             1282.362\n",
      "Skew:                          -0.042   Prob(JB):                    3.46e-279\n",
      "Kurtosis:                       8.362   Cond. No.                         178.\n",
      "==============================================================================\n",
      "\n",
      "Warnings:\n",
      "[1] Standard Errors assume that the covariance matrix of the errors is correctly specified.\n"
     ]
    }
   ],
   "source": [
    "doStuff(merged)"
   ]
  },
  {
   "cell_type": "code",
   "execution_count": 138,
   "metadata": {
    "collapsed": false
   },
   "outputs": [],
   "source": [
    "noise = merged[merged['Complaint Type'].str.contains('Noise')]"
   ]
  },
  {
   "cell_type": "code",
   "execution_count": 139,
   "metadata": {
    "collapsed": false
   },
   "outputs": [
    {
     "name": "stdout",
     "output_type": "stream",
     "text": [
      "                            OLS Regression Results                            \n",
      "==============================================================================\n",
      "Dep. Variable:                      c   R-squared:                       0.435\n",
      "Model:                            OLS   Adj. R-squared:                  0.426\n",
      "Method:                 Least Squares   F-statistic:                     45.04\n",
      "Date:                Mon, 09 Nov 2015   Prob (F-statistic):          6.58e-117\n",
      "Time:                        00:24:30   Log-Likelihood:                -6519.2\n",
      "No. Observations:                1070   AIC:                         1.308e+04\n",
      "Df Residuals:                    1051   BIC:                         1.317e+04\n",
      "Df Model:                          18                                         \n",
      "Covariance Type:            nonrobust                                         \n",
      "================================================================================\n",
      "                   coef    std err          t      P>|t|      [95.0% Conf. Int.]\n",
      "--------------------------------------------------------------------------------\n",
      "Intercept     -178.1546     76.751     -2.321      0.020      -328.756   -27.553\n",
      "C(d)[T.1.0]     -7.9654     12.737     -0.625      0.532       -32.958    17.027\n",
      "C(d)[T.2.0]     -4.8905     12.716     -0.385      0.701       -29.842    20.061\n",
      "C(d)[T.3.0]      6.4877     12.908      0.503      0.615       -18.841    31.817\n",
      "C(d)[T.4.0]     50.6994     12.608      4.021      0.000        25.960    75.438\n",
      "C(d)[T.5.0]    223.9359     12.592     17.784      0.000       199.227   248.645\n",
      "C(d)[T.6.0]    151.4804     12.605     12.018      0.000       126.748   176.213\n",
      "C(m)[T.4.0]     76.1189     77.158      0.987      0.324       -75.282   227.520\n",
      "C(m)[T.5.0]    169.8388     77.113      2.202      0.028        18.525   321.152\n",
      "C(m)[T.6.0]    153.3881     77.108      1.989      0.047         2.085   304.691\n",
      "C(m)[T.7.0]     74.8752     77.123      0.971      0.332       -76.457   226.208\n",
      "C(m)[T.8.0]    105.3288     77.072      1.367      0.172       -45.903   256.561\n",
      "C(m)[T.9.0]    118.4638     77.122      1.536      0.125       -32.868   269.795\n",
      "C(m)[T.10.0]    36.8109     83.997      0.438      0.661      -128.009   201.631\n",
      "C(m)[T.11.0]    24.0445    140.550      0.171      0.864      -251.745   299.834\n",
      "C(p)[T.1.0]     10.4681     39.641      0.264      0.792       -67.316    88.252\n",
      "C(p)[T.2.0]     23.5082     45.671      0.515      0.607       -66.109   113.125\n",
      "ys               1.9611      1.462      1.342      0.180        -0.907     4.829\n",
      "ms               1.1870      1.361      0.872      0.383        -1.484     3.858\n",
      "==============================================================================\n",
      "Omnibus:                       62.507   Durbin-Watson:                   0.961\n",
      "Prob(Omnibus):                  0.000   Jarque-Bera (JB):               94.262\n",
      "Skew:                           0.476   Prob(JB):                     3.40e-21\n",
      "Kurtosis:                       4.099   Cond. No.                         178.\n",
      "==============================================================================\n",
      "\n",
      "Warnings:\n",
      "[1] Standard Errors assume that the covariance matrix of the errors is correctly specified.\n"
     ]
    }
   ],
   "source": [
    "doStuff(noise)"
   ]
  },
  {
   "cell_type": "code",
   "execution_count": 140,
   "metadata": {
    "collapsed": true
   },
   "outputs": [],
   "source": [
    "wonoise = merged[~merged['Complaint Type'].str.contains('Noise')]"
   ]
  },
  {
   "cell_type": "code",
   "execution_count": 141,
   "metadata": {
    "collapsed": false
   },
   "outputs": [
    {
     "name": "stdout",
     "output_type": "stream",
     "text": [
      "                            OLS Regression Results                            \n",
      "==============================================================================\n",
      "Dep. Variable:                      c   R-squared:                       0.778\n",
      "Model:                            OLS   Adj. R-squared:                  0.775\n",
      "Method:                 Least Squares   F-statistic:                     205.0\n",
      "Date:                Mon, 09 Nov 2015   Prob (F-statistic):               0.00\n",
      "Time:                        00:26:28   Log-Likelihood:                -8448.9\n",
      "No. Observations:                1070   AIC:                         1.694e+04\n",
      "Df Residuals:                    1051   BIC:                         1.703e+04\n",
      "Df Model:                          18                                         \n",
      "Covariance Type:            nonrobust                                         \n",
      "================================================================================\n",
      "                   coef    std err          t      P>|t|      [95.0% Conf. Int.]\n",
      "--------------------------------------------------------------------------------\n",
      "Intercept      966.8276    465.898      2.075      0.038        52.631  1881.024\n",
      "C(d)[T.1.0]    296.8120     77.316      3.839      0.000       145.101   448.523\n",
      "C(d)[T.2.0]    190.2370     77.191      2.465      0.014        38.772   341.702\n",
      "C(d)[T.3.0]     -0.6941     78.357     -0.009      0.993      -154.448   153.060\n",
      "C(d)[T.4.0]   -438.3724     76.532     -5.728      0.000      -588.545  -288.200\n",
      "C(d)[T.5.0]  -2431.5057     76.439    -31.810      0.000     -2581.496 -2281.516\n",
      "C(d)[T.6.0]  -2729.7240     76.513    -35.677      0.000     -2879.860 -2579.588\n",
      "C(m)[T.4.0]   -199.8106    468.370     -0.427      0.670     -1118.858   719.237\n",
      "C(m)[T.5.0]   -330.8138    468.100     -0.707      0.480     -1249.331   587.703\n",
      "C(m)[T.6.0]    -52.8357    468.068     -0.113      0.910      -971.291   865.619\n",
      "C(m)[T.7.0]    -56.4521    468.159     -0.121      0.904      -975.085   862.181\n",
      "C(m)[T.8.0]   -286.4737    467.848     -0.612      0.540     -1204.496   631.549\n",
      "C(m)[T.9.0]   -343.5679    468.155     -0.734      0.463     -1262.194   575.058\n",
      "C(m)[T.10.0]   403.4638    509.884      0.791      0.429      -597.042  1403.970\n",
      "C(m)[T.11.0]   217.7004    853.178      0.255      0.799     -1456.425  1891.826\n",
      "C(p)[T.1.0]   -189.3374    240.631     -0.787      0.432      -661.510   282.835\n",
      "C(p)[T.2.0]     48.0311    277.237      0.173      0.862      -495.971   592.033\n",
      "ys              -7.3316      8.872     -0.826      0.409       -24.741    10.078\n",
      "ms              15.9084      8.264      1.925      0.054        -0.307    32.124\n",
      "==============================================================================\n",
      "Omnibus:                      153.139   Durbin-Watson:                   1.095\n",
      "Prob(Omnibus):                  0.000   Jarque-Bera (JB):             1890.111\n",
      "Skew:                          -0.090   Prob(JB):                         0.00\n",
      "Kurtosis:                       9.509   Cond. No.                         178.\n",
      "==============================================================================\n",
      "\n",
      "Warnings:\n",
      "[1] Standard Errors assume that the covariance matrix of the errors is correctly specified.\n"
     ]
    }
   ],
   "source": [
    "doStuff(wonoise)"
   ]
  },
  {
   "cell_type": "code",
   "execution_count": null,
   "metadata": {
    "collapsed": true
   },
   "outputs": [],
   "source": []
  }
 ],
 "metadata": {
  "kernelspec": {
   "display_name": "Python 2",
   "language": "python",
   "name": "python2"
  },
  "language_info": {
   "codemirror_mode": {
    "name": "ipython",
    "version": 2
   },
   "file_extension": ".py",
   "mimetype": "text/x-python",
   "name": "python",
   "nbconvert_exporter": "python",
   "pygments_lexer": "ipython2",
   "version": "2.7.10"
  }
 },
 "nbformat": 4,
 "nbformat_minor": 0
}
